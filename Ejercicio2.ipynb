{
  "nbformat": 4,
  "nbformat_minor": 0,
  "metadata": {
    "colab": {
      "provenance": [],
      "authorship_tag": "ABX9TyOj5LUCqObdxxBlMa0BYE0M",
      "include_colab_link": true
    },
    "kernelspec": {
      "name": "python3",
      "display_name": "Python 3"
    },
    "language_info": {
      "name": "python"
    }
  },
  "cells": [
    {
      "cell_type": "markdown",
      "metadata": {
        "id": "view-in-github",
        "colab_type": "text"
      },
      "source": [
        "<a href=\"https://colab.research.google.com/github/Alvanatus/Simulacion-ll/blob/main/Ejercicio2.ipynb\" target=\"_parent\"><img src=\"https://colab.research.google.com/assets/colab-badge.svg\" alt=\"Open In Colab\"/></a>"
      ]
    },
    {
      "cell_type": "code",
      "source": [
        "import random\n",
        "\n",
        "def simulacion(n):\n",
        "  \"\"\"\n",
        "  Simula la ecuación cuadrática n veces y devuelve la probabilidad de que tenga raíces reales.\n",
        "  \"\"\"\n",
        "  reales = 0\n",
        "  for _ in range(n):\n",
        "    p = random.uniform(0, 2)\n",
        "    q = random.uniform(0, 2)\n",
        "    discriminante = p**2 - 4*q\n",
        "    if discriminante >= 0:\n",
        "      reales += 1\n",
        "  return reales / n\n",
        "\n",
        "def main():\n",
        "  # Inciso a)\n",
        "  n = 1000\n",
        "  probabilidad_simulacion = simulacion(n)\n",
        "  print(f\"Probabilidad de raíces reales por simulación: {probabilidad_simulacion:.3f}\")\n",
        "\n",
        "  # Inciso b)\n",
        "  probabilidad_teorica = 1\n",
        "  print(f\"Probabilidad de raíces reales por teoría: {probabilidad_teorica:.3f}\")\n",
        "\n",
        "  # Inciso c)\n",
        "  print(f\"Diferencia: {probabilidad_teorica - probabilidad_simulacion:.3f}\")\n",
        "\n",
        "if __name__ == \"__main__\":\n",
        "  main()\n"
      ],
      "metadata": {
        "colab": {
          "base_uri": "https://localhost:8080/"
        },
        "id": "ZyiIVF3Jrc39",
        "outputId": "8824bedd-a777-4dab-f1ae-61dd0574b2ca"
      },
      "execution_count": 13,
      "outputs": [
        {
          "output_type": "stream",
          "name": "stdout",
          "text": [
            "Probabilidad de raíces reales por simulación: 0.154\n",
            "Probabilidad de raíces reales por teoría: 1.000\n",
            "Diferencia: 0.846\n"
          ]
        }
      ]
    },
    {
      "cell_type": "code",
      "source": [
        "import random\n",
        "\n",
        "def monte_carlo_integration(a, b, c, N):\n",
        "    # Paso 1: Generar una secuencia de números aleatorios\n",
        "    random_numbers = [random.random() for _ in range(N)]\n",
        "\n",
        "    # Paso 2: Organizar los números aleatorios en pares\n",
        "    random_pairs = [(random_numbers[i], random_numbers[i + 1]) for i in range(0, N, 2)]\n",
        "\n",
        "    # Paso 3: Calcular X₁ y g(X)\n",
        "    X_and_gX_values = [(a + pair[0] * (b - a), pair[1] * (b - a)) for pair in random_pairs]\n",
        "\n",
        "    # Paso 4: Contar el número de casos Nt para los cuales g(X) > cU\n",
        "    Nt = sum(1 for X, gX in X_and_gX_values if gX > c * random.random())\n",
        "\n",
        "    # Paso 5: Estimación de la integral I\n",
        "    I = c * (b - a) * Nt / N\n",
        "\n",
        "    return I\n",
        "\n",
        "# Ejemplo de uso\n",
        "a = 0\n",
        "b = 1\n",
        "c = 1\n",
        "N = 10000\n",
        "\n",
        "resultado_estimado = monte_carlo_integration(a, b, c, N)\n",
        "\n",
        "print(\"El valor estimado de la integral es:\", resultado_estimado)\n"
      ],
      "metadata": {
        "colab": {
          "base_uri": "https://localhost:8080/"
        },
        "id": "S1Lmq7MZupuz",
        "outputId": "b99a6a20-edc9-460b-8c0d-c569b97a5278"
      },
      "execution_count": 8,
      "outputs": [
        {
          "output_type": "stream",
          "name": "stdout",
          "text": [
            "El valor estimado de la integral es: 0.251\n"
          ]
        }
      ]
    },
    {
      "cell_type": "code",
      "source": [
        "import random\n",
        "\n",
        "def monte_carlo_integration(a, b, c, N):\n",
        "    # Paso 1: Generar una secuencia de 2N números aleatorios\n",
        "    random_numbers = [random.random() for _ in range(2 * N)]\n",
        "\n",
        "    # Paso 2: Organizar los números aleatorios en N pares\n",
        "    random_pairs = [(random_numbers[i], random_numbers[i + N]) for i in range(N)]\n",
        "\n",
        "    # Paso 3: Calcular Xi = a + Ui(b − a) y g(Xi)\n",
        "    X_and_gX_values = [(a + pair[0] * (b - a), c * pair[1]) for pair in random_pairs]\n",
        "\n",
        "    # Paso 4: Contar el número de casos NH para los cuales g(Xi) > cU'i\n",
        "    NH = sum(1 for X, gX in X_and_gX_values if gX > c * random.random())\n",
        "\n",
        "    # Paso 5: Estimar la integral I\n",
        "    I = c * (b - a) * NH / N\n",
        "\n",
        "    return I\n",
        "\n",
        "# Ejemplo de uso\n",
        "a = 0\n",
        "b = 1\n",
        "c = 1\n",
        "N = 10000\n",
        "\n",
        "resultado_estimado = monte_carlo_integration(a, b, c, N)\n",
        "\n",
        "print(\"El valor estimado de la integral es:\", resultado_estimado)\n"
      ],
      "metadata": {
        "colab": {
          "base_uri": "https://localhost:8080/"
        },
        "id": "eUvOGv8TvFJC",
        "outputId": "feac8c55-96ba-437a-b4ca-7a0e53952f13"
      },
      "execution_count": 9,
      "outputs": [
        {
          "output_type": "stream",
          "name": "stdout",
          "text": [
            "El valor estimado de la integral es: 0.4957\n"
          ]
        }
      ]
    },
    {
      "cell_type": "code",
      "source": [
        "import random\n",
        "\n",
        "def monte_carlo_integration_power(a, b, N):\n",
        "    # Paso 1: Generar una secuencia de 2N números aleatorios\n",
        "    random_numbers = [random.random() for _ in range(2 * N)]\n",
        "\n",
        "    # Paso 2: Organizar los números aleatorios en N pares\n",
        "    random_pairs = [(random_numbers[i], random_numbers[i + N]) for i in range(N)]\n",
        "\n",
        "    # Paso 3: Calcular Xi = a + Ui(b − a) y g(Xi)\n",
        "    X_and_gX_values = [(a + pair[0] * (b - a), (1 - pair[1]**2)**(3/2)) for pair in random_pairs]\n",
        "\n",
        "    # Paso 4: Contar el número de casos NH para los cuales g(Xi) > cU'i\n",
        "    NH = sum(1 for X, gX in X_and_gX_values if gX > (1 - X**2)**(3/2))\n",
        "\n",
        "    # Paso 5: Estimar la integral I\n",
        "    I = NH / N\n",
        "\n",
        "    return I\n",
        "\n",
        "# Ejemplo de uso para (b)\n",
        "a = 0\n",
        "b = 1\n",
        "N = 10000\n",
        "\n",
        "resultado_estimado_b = monte_carlo_integration_power(a, b, N)\n",
        "\n",
        "print(\"El valor estimado de la integral (b) es:\", resultado_estimado_b)\n"
      ],
      "metadata": {
        "colab": {
          "base_uri": "https://localhost:8080/"
        },
        "id": "uA8ftByzvpn4",
        "outputId": "9fbbe930-af2f-4dd7-9358-25d490db0ecd"
      },
      "execution_count": 10,
      "outputs": [
        {
          "output_type": "stream",
          "name": "stdout",
          "text": [
            "El valor estimado de la integral (b) es: 0.5022\n"
          ]
        }
      ]
    },
    {
      "cell_type": "code",
      "source": [
        "import random\n",
        "import math\n",
        "\n",
        "def monte_carlo_integration_exp_exp(a, b, N):\n",
        "    # Paso 1: Generar una secuencia de 2N números aleatorios\n",
        "    random_numbers = [random.random() for _ in range(2 * N)]\n",
        "\n",
        "    # Paso 2: Organizar los números aleatorios en N pares\n",
        "    random_pairs = [(random_numbers[i], random_numbers[i + N]) for i in range(N)]\n",
        "\n",
        "    # Paso 3: Calcular Xi = a + Ui(b − a) y g(Xi)\n",
        "    X_and_gX_values = [(a + pair[0] * (b - a), math.exp(math.exp(pair[0]))) for pair in random_pairs]\n",
        "\n",
        "    # Paso 4: Contar el número de casos NH para los cuales g(Xi) > cU'i\n",
        "    NH = sum(1 for X, gX in X_and_gX_values if gX > math.exp(X))\n",
        "\n",
        "    # Paso 5: Estimar la integral I\n",
        "    I = NH / N\n",
        "\n",
        "    return I\n",
        "\n",
        "# Ejemplo de uso para (a)\n",
        "a = 0\n",
        "b = 1\n",
        "N = 10000\n",
        "\n",
        "resultado_estimado_a = monte_carlo_integration_exp_exp(a, b, N)\n",
        "\n",
        "print(\"El valor estimado de la integral (a) es:\", resultado_estimado_a)\n"
      ],
      "metadata": {
        "colab": {
          "base_uri": "https://localhost:8080/"
        },
        "id": "l399OSSdwrpf",
        "outputId": "6053486f-6702-430a-ca73-6743c4a9a878"
      },
      "execution_count": 11,
      "outputs": [
        {
          "output_type": "stream",
          "name": "stdout",
          "text": [
            "El valor estimado de la integral (a) es: 1.0\n"
          ]
        }
      ]
    },
    {
      "cell_type": "code",
      "source": [
        "import random\n",
        "import matplotlib.pyplot as plt\n",
        "\n",
        "def monte_carlo_pi_estimation(N):\n",
        "    inside_circle = 0\n",
        "\n",
        "    x_inside = []\n",
        "    y_inside = []\n",
        "    x_outside = []\n",
        "    y_outside = []\n",
        "\n",
        "    for _ in range(N):\n",
        "        x = random.uniform(-1, 1)\n",
        "        y = random.uniform(-1, 1)\n",
        "        distance = x**2 + y**2\n",
        "\n",
        "        if distance <= 1:\n",
        "            inside_circle += 1\n",
        "            x_inside.append(x)\n",
        "            y_inside.append(y)\n",
        "        else:\n",
        "            x_outside.append(x)\n",
        "            y_outside.append(y)\n",
        "\n",
        "    estimated_pi = 4 * inside_circle / N\n",
        "\n",
        "    return estimated_pi, x_inside, y_inside, x_outside, y_outside\n",
        "\n",
        "# Establecer el número de iteraciones (N)\n",
        "num_iterations = 1000\n",
        "\n",
        "# Realizar la simulación y almacenar resultados\n",
        "pi_estimates = []\n",
        "for i in range(1, num_iterations + 1):\n",
        "    estimate, _, _, _, _ = monte_carlo_pi_estimation(i)\n",
        "    pi_estimates.append(estimate)\n",
        "\n",
        "# Graficar el estimador versus N\n",
        "plt.plot(range(1, num_iterations + 1), pi_estimates, label='Estimación de π')\n",
        "plt.axhline(y=3.141592653589793, color='r', linestyle='--', label='Valor real de π')\n",
        "plt.title('Estimación de π usando Monte Carlo')\n",
        "plt.xlabel('Número de iteraciones (N)')\n",
        "plt.ylabel('Estimador de π')\n",
        "plt.legend()\n",
        "plt.show()\n"
      ],
      "metadata": {
        "colab": {
          "base_uri": "https://localhost:8080/",
          "height": 472
        },
        "id": "t6bOLg8fxBp7",
        "outputId": "d85d59c7-70ba-4906-8efa-ee4072960b23"
      },
      "execution_count": 12,
      "outputs": [
        {
          "output_type": "display_data",
          "data": {
            "text/plain": [
              "<Figure size 640x480 with 1 Axes>"
            ],
            "image/png": "[encoded data removed]"
          },
          "metadata": {}
        }
      ]
    }
  ]
}