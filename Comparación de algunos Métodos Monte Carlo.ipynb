{
  "cells": [
    {
      "cell_type": "markdown",
      "metadata": {
        "id": "view-in-github",
        "colab_type": "text"
      },
      "source": [
        "<a href=\"https://colab.research.google.com/github/Alvanatus/Simulacion-ll/blob/main/Comparaci%C3%B3n%20de%20algunos%20M%C3%A9todos%20Monte%20Carlo.ipynb\" target=\"_parent\"><img src=\"https://colab.research.google.com/assets/colab-badge.svg\" alt=\"Open In Colab\"/></a>"
      ]
    },
    {
      "cell_type": "markdown",
      "id": "a5cc0a87",
      "metadata": {
        "id": "a5cc0a87"
      },
      "source": [
        "# Metodología de la Simulación"
      ]
    },
    {
      "cell_type": "markdown",
      "id": "0e218d98",
      "metadata": {
        "id": "0e218d98"
      },
      "source": [
        "### 1. Identifique las variables\n",
        "\n",
        "En este caso, la posición aleatoria de puntos dentro de un cuadrado y cómo esta posición se relaciona con un círculo inscrito."
      ]
    },
    {
      "cell_type": "markdown",
      "source": [
        "En este caso, las variables incluyen los métodos Monte Carlo utilizados para estimar la integral de f(x), así como los resultados de estas estimaciones y sus respectivas varianzas."
      ],
      "metadata": {
        "id": "pwF7oSnP4R9F"
      },
      "id": "pwF7oSnP4R9F"
    },
    {
      "cell_type": "markdown",
      "id": "3ebcd0f2",
      "metadata": {
        "id": "3ebcd0f2"
      },
      "source": [
        "### 2. Determine la distribución de probabilidad\n",
        "\n",
        "No se aplica en este caso, ya que estamos utilizando métodos de Monte Carlo que no dependen de una distribución de probabilidad específica."
      ]
    },
    {
      "cell_type": "markdown",
      "id": "803801d5",
      "metadata": {
        "id": "803801d5"
      },
      "source": [
        "### 3. Modele las variables aleatorias\n",
        "\n",
        "Los métodos Monte Carlo se utilizan para generar estimaciones de la integral de f(x).\n",
        "\n"
      ]
    },
    {
      "cell_type": "markdown",
      "id": "33709223",
      "metadata": {
        "id": "33709223"
      },
      "source": [
        "### 4. Defina el modelo del sistema y los objetivos de la simulación\n",
        "\n",
        "El modelo implica la aplicación de diferentes métodos Monte Carlo para estimar la integral de f(x) y comparar los resultados. El objetivo es determinar cuál método produce una estimación más precisa y eficiente."
      ]
    },
    {
      "cell_type": "markdown",
      "source": [
        "###5.programacion de los metodos"
      ],
      "metadata": {
        "id": "09dcehV24186"
      },
      "id": "09dcehV24186"
    },
    {
      "cell_type": "code",
      "source": [
        "import numpy as np\n",
        "from tabulate import tabulate\n",
        "\n",
        "def f(x):\n",
        "    return (np.exp(x) - 1) / (np.exp(1) - 1)\n",
        "\n",
        "# Método de Media Muestral\n",
        "def media_muestral(N):\n",
        "    muestras = np.random.uniform(0, 1, N)\n",
        "    estimacion = np.mean(f(muestras))\n",
        "    varianza = np.var(f(muestras)) / N\n",
        "    return estimacion, varianza\n",
        "\n",
        "# Método de Acierto y Error\n",
        "def acierto_y_error(N):\n",
        "    muestras = np.random.uniform(0, 1, N)\n",
        "    estimacion = np.sum(f(muestras)) / N\n",
        "    varianza = np.var(f(muestras)) / N\n",
        "    return estimacion, varianza\n",
        "\n",
        "# Método de Muestreo de Importancia\n",
        "def muestreo_importancia(N):\n",
        "    muestras = np.random.normal(0.5, 0.3, N) # Distribución normal centrada en 0.5\n",
        "    pesos = np.exp(-0.5 * (muestras - 0.5)**2) / np.sqrt(2 * np.pi * 0.3**2)\n",
        "    estimacion = np.mean(f(muestras) / pesos)\n",
        "    varianza = np.mean((f(muestras) / pesos - np.mean(f(muestras) / pesos))**2)\n",
        "    return estimacion, varianza\n",
        "\n",
        "# Método de Muestreo Estratificado\n",
        "def muestreo_estratificado(N, K):\n",
        "    estratos = np.linspace(0, 1, K+1)\n",
        "    n_k = N // K\n",
        "    muestras = []\n",
        "    for i in range(K):\n",
        "        muestras_estrato = np.random.uniform(estratos[i], estratos[i+1], n_k)\n",
        "        muestras.append(muestras_estrato)\n",
        "    muestras = np.concatenate(muestras)\n",
        "    estimacion = np.mean(f(muestras))\n",
        "    varianza = np.mean((np.mean(f(muestras)) - f(muestras))**2)\n",
        "    return estimacion, varianza\n",
        "\n",
        "# Calcular la integral exacta\n",
        "integral_exacta = 1 / (np.exp(1) - 1)\n",
        "\n",
        "# Parámetros\n",
        "N = 10000\n",
        "K = 10\n",
        "\n",
        "# Calcular estimaciones y varianzas\n",
        "media_muestral_est, media_muestral_var = media_muestral(N)\n",
        "acierto_y_error_est, acierto_y_error_var = acierto_y_error(N)\n",
        "muestreo_importancia_est, muestreo_importancia_var = muestreo_importancia(N)\n",
        "muestreo_estratificado_est, muestreo_estratificado_var = muestreo_estratificado(N, K)\n",
        "\n",
        "# Crear la tabla\n",
        "tabla = [\n",
        "    [\"Media Muestral\", media_muestral_est, media_muestral_var, media_muestral_var/(N**2), integral_exacta],\n",
        "    [\"Acierto y Error\", acierto_y_error_est, acierto_y_error_var, acierto_y_error_var/(N**2), integral_exacta],\n",
        "    [\"Muestreo Importancia\", muestreo_importancia_est, muestreo_importancia_var, muestreo_importancia_var, integral_exacta],\n",
        "    [\"Muestreo Estratificado\", muestreo_estratificado_est, muestreo_estratificado_var, muestreo_estratificado_var, integral_exacta]\n",
        "]\n",
        "\n",
        "# Imprimir la tabla\n",
        "print(tabulate(tabla, headers=[\"Método\", \"Estimación de la Integral\", \"Varianza\", \"Razón de Varianzas\", \"Integral Exacta\"]))\n"
      ],
      "metadata": {
        "colab": {
          "base_uri": "https://localhost:8080/"
        },
        "id": "QkSxL0cu61gS",
        "outputId": "6e8d5660-5f3f-4d60-9bda-900764aca511"
      },
      "id": "QkSxL0cu61gS",
      "execution_count": 3,
      "outputs": [
        {
          "output_type": "stream",
          "name": "stdout",
          "text": [
            "Método                    Estimación de la Integral     Varianza    Razón de Varianzas    Integral Exacta\n",
            "----------------------  ---------------------------  -----------  --------------------  -----------------\n",
            "Media Muestral                             0.421409  8.10789e-06           8.10789e-14           0.581977\n",
            "Acierto y Error                            0.416035  8.23065e-06           8.23065e-14           0.581977\n",
            "Muestreo Importancia                       0.33659   0.077861              0.077861              0.581977\n",
            "Muestreo Estratificado                     0.418228  0.0822178             0.0822178             0.581977\n"
          ]
        }
      ]
    }
  ],
  "metadata": {
    "kernelspec": {
      "display_name": "Python 3 (ipykernel)",
      "language": "python",
      "name": "python3"
    },
    "language_info": {
      "codemirror_mode": {
        "name": "ipython",
        "version": 3
      },
      "file_extension": ".py",
      "mimetype": "text/x-python",
      "name": "python",
      "nbconvert_exporter": "python",
      "pygments_lexer": "ipython3",
      "version": "3.7.3"
    },
    "colab": {
      "provenance": [],
      "include_colab_link": true
    }
  },
  "nbformat": 4,
  "nbformat_minor": 5
}