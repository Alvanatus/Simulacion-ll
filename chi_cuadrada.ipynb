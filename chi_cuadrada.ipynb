{
  "nbformat": 4,
  "nbformat_minor": 0,
  "metadata": {
    "colab": {
      "provenance": [],
      "authorship_tag": "ABX9TyN/wX261G9hRPkKIh8+qdcb",
      "include_colab_link": true
    },
    "kernelspec": {
      "name": "python3",
      "display_name": "Python 3"
    },
    "language_info": {
      "name": "python"
    }
  },
  "cells": [
    {
      "cell_type": "markdown",
      "metadata": {
        "id": "view-in-github",
        "colab_type": "text"
      },
      "source": [
        "<a href=\"https://colab.research.google.com/github/Alvanatus/Simulacion-ll/blob/main/chi_cuadrada.ipynb\" target=\"_parent\"><img src=\"https://colab.research.google.com/assets/colab-badge.svg\" alt=\"Open In Colab\"/></a>"
      ]
    },
    {
      "cell_type": "markdown",
      "source": [
        "# Prueba Chi Cuadrada"
      ],
      "metadata": {
        "id": "q0MdPq6CNYzU"
      }
    },
    {
      "cell_type": "markdown",
      "source": [
        "La prueba de Chi-Cuadrada es una prueba estadística que se utiliza para determinar si una muestra de datos sigue una distribución específica. En el contexto de números aleatorios, la prueba de Chi-Cuadrada se puede utilizar para verificar si una secuencia de números se genera a partir de una distribución uniforme o normal."
      ],
      "metadata": {
        "id": "rvghg6SlORBF"
      }
    },
    {
      "cell_type": "markdown",
      "source": [
        "# Hipótesis:"
      ],
      "metadata": {
        "id": "2_3QhlphPQpB"
      }
    },
    {
      "cell_type": "markdown",
      "source": [
        "\n",
        "*   Hipótesis nula (H0): La secuencia de números se genera a partir de la distribución especificada (uniforme o normal).\n",
        "\n",
        "*   Hipótesis alternativa (H1): La secuencia de números no se genera a partir de la distribución especificada.\n",
        "\n",
        "\n"
      ],
      "metadata": {
        "id": "zk0FMNPOPTCT"
      }
    },
    {
      "cell_type": "markdown",
      "source": [
        "# Procedimiento:"
      ],
      "metadata": {
        "id": "vkrGv2n3PhWx"
      }
    },
    {
      "cell_type": "markdown",
      "source": [
        "\n",
        "\n",
        "1. Generar una secuencia de números aleatorios.\n",
        "2. Dividir la secuencia en intervalos de igual tamaño.\n",
        "3. Calcular la frecuencia observada de números en cada intervalo.\n",
        "4. Calcular la frecuencia esperada de números en cada intervalo bajo la distribución especificada.\n",
        "5. Calcular el estadístico de la prueba de Chi-Cuadrada\n",
        "6. Calcular el p-valor utilizando la distribución Chi-Cuadrada con k-1 grados de libertad, donde k es el número de intervalos.\n",
        "7. Comparar el p-valor con el nivel de significancia (α).\n"
      ],
      "metadata": {
        "id": "B5vwyoLrPlXB"
      }
    },
    {
      "cell_type": "markdown",
      "source": [
        "# Interpretación:\n",
        "\n",
        "1. Si el p-valor es menor que α, se rechaza la hipótesis nula y se concluye que la secuencia de números no se genera a partir de la distribución especificada.\n",
        "2. Si el p-valor es mayor que α, no se rechaza la hipótesis nula y no se puede concluir que la secuencia de números no se genera a partir de la distribución especificada.\n",
        "\n"
      ],
      "metadata": {
        "id": "J2vbtERgQdIE"
      }
    },
    {
      "cell_type": "markdown",
      "source": [
        "# Programacion"
      ],
      "metadata": {
        "id": "5H6t2fLIQ0Q6"
      }
    },
    {
      "cell_type": "code",
      "execution_count": 9,
      "metadata": {
        "colab": {
          "base_uri": "https://localhost:8080/"
        },
        "id": "mOTN2jxAOe8f",
        "outputId": "d51ba2b5-b47b-44ca-b0c1-8ab6be159c44"
      },
      "outputs": [
        {
          "output_type": "stream",
          "name": "stdout",
          "text": [
            "Distribución: uniforme\n",
            "Chi^2: 91.41031614000482\n",
            "p-valor: 8.881784197001252e-16\n",
            "Grados de libertad: 9\n",
            "Se rechaza la hipótesis nula, los números no son {distribucion}.\n"
          ]
        }
      ],
      "source": [
        "import numpy as np\n",
        "from scipy.stats import chi2\n",
        "\n",
        "def generar_aleatorios(n, distribucion):\n",
        "  \"\"\"\n",
        "  Genera n números aleatorios a partir de una distribución.\n",
        "\n",
        "  Parámetros:\n",
        "    n: Número de números aleatorios a generar.\n",
        "    distribucion: Tipo de distribución a utilizar (\"uniforme\", \"normal\").\n",
        "\n",
        "  Retorno:\n",
        "    Arreglo con los números aleatorios generados.\n",
        "  \"\"\"\n",
        "  if distribucion == \"uniforme\":\n",
        "    return np.random.uniform(0, 1, n)\n",
        "  elif distribucion == \"normal\":\n",
        "    return np.random.normal(0, 1, n)\n",
        "  else:\n",
        "    raise ValueError(\"Distribución no válida\")\n",
        "\n",
        "def prueba_chi2(numeros, k):\n",
        "  \"\"\"\n",
        "  Realiza la prueba de Chi-Cuadrada para un conjunto de números aleatorios.\n",
        "\n",
        "  Parámetros:\n",
        "    numeros: Arreglo con los números aleatorios.\n",
        "    k: Número de intervalos.\n",
        "\n",
        "  Retorno:\n",
        "    Valor de la prueba de Chi-Cuadrada, p-valor y grados de libertad.\n",
        "  \"\"\"\n",
        "  # Calculamos la frecuencia observada en cada intervalo\n",
        "  frecuencia_observada = np.histogram(numeros, bins=k, density=True)[0]\n",
        "\n",
        "  # Calculamos la frecuencia esperada en cada intervalo\n",
        "  frecuencia_esperada = np.ones(k) / k\n",
        "\n",
        "  # Calculamos el estadístico de la prueba de Chi-Cuadrada\n",
        "  chi2_stat = np.sum((frecuencia_observada - frecuencia_esperada)**2 / frecuencia_esperada)\n",
        "\n",
        "  # Calculamos el p-valor\n",
        "  p_valor = 1 - chi2.cdf(chi2_stat, k-1)\n",
        "\n",
        "  # Devolvemos el resultado\n",
        "  return chi2_stat, p_valor, k-1\n",
        "\n",
        "# Definimos los parámetros\n",
        "n = 100  # Número de números aleatorios\n",
        "k = 10    # Número de intervalos\n",
        "\n",
        "distribucion = \"uniforme\"  # Distribución a probar (\"uniforme\", \"normal\")\n",
        "\n",
        "# Generamos números aleatorios\n",
        "numeros = generar_aleatorios(n, distribucion)\n",
        "\n",
        "# Realizamos la prueba de Chi-Cuadrada\n",
        "chi2_stat, p_valor, df = prueba_chi2(numeros, k)\n",
        "\n",
        "# Imprimimos el resultado\n",
        "print(f\"Distribución: {distribucion}\")\n",
        "print(f\"Chi^2: {chi2_stat}\")\n",
        "print(f\"p-valor: {p_valor}\")\n",
        "print(f\"Grados de libertad: {df}\")\n",
        "\n",
        "# Interpretamos el resultado\n",
        "if p_valor < 0.05:\n",
        "  print(\"Se rechaza la hipótesis nula, los números no son {distribucion}.\")\n",
        "else:\n",
        "  print(\"No se rechaza la hipótesis nula, los números parecen ser {distribucion}.\")\n"
      ]
    },
    {
      "cell_type": "markdown",
      "source": [
        "Consideraciones:\n",
        "\n",
        "1. El número de intervalos (k) debe ser elegido cuidadosamente. Un valor de k demasiado pequeño puede resultar en una prueba con baja potencia, mientras que un valor de k demasiado grande puede aumentar la probabilidad de un error tipo I.\n",
        "2. La prueba de Chi-Cuadrada es una prueba no paramétrica, lo que significa que no se necesitan assumptions sobre la distribución de los datos.\n",
        "\n",
        "\n",
        "\n"
      ],
      "metadata": {
        "id": "2bIFqv1RRKj8"
      }
    }
  ]
}