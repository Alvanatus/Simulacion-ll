{
  "cells": [
    {
      "cell_type": "markdown",
      "metadata": {
        "id": "view-in-github",
        "colab_type": "text"
      },
      "source": [
        "<a href=\"https://colab.research.google.com/github/Alvanatus/Simulacion-ll/blob/main/MC%20Acierto%20y%20Error.ipynb\" target=\"_parent\"><img src=\"https://colab.research.google.com/assets/colab-badge.svg\" alt=\"Open In Colab\"/></a>"
      ]
    },
    {
      "cell_type": "markdown",
      "id": "a5cc0a87",
      "metadata": {
        "id": "a5cc0a87"
      },
      "source": [
        "# Metodología de la Simulación para MC Acierto y Error"
      ]
    },
    {
      "cell_type": "markdown",
      "id": "0e218d98",
      "metadata": {
        "id": "0e218d98"
      },
      "source": [
        "### 1. Identifique las variables\n",
        "\n",
        "n este caso, las variables son:\n",
        "\n",
        "* x: La variable de la función que estamos integrando.\n",
        "* f(x): La función que estamos integrando."
      ]
    },
    {
      "cell_type": "markdown",
      "id": "3ebcd0f2",
      "metadata": {
        "id": "3ebcd0f2"
      },
      "source": [
        "### 2. Determine la distribución de probabilidad\n",
        "\n",
        "No hay una distribución de probabilidad específica en este caso, ya que el Método Montecarlo no depende de la distribución de probabilidad de las variables."
      ]
    },
    {
      "cell_type": "markdown",
      "id": "803801d5",
      "metadata": {
        "id": "803801d5"
      },
      "source": [
        "### 3. Modele las variables aleatorias\n",
        "\n",
        "En este método, generamos puntos aleatorios uniformemente distribuidos dentro del intervalo de integración.\n",
        "\n"
      ]
    },
    {
      "cell_type": "markdown",
      "id": "33709223",
      "metadata": {
        "id": "33709223"
      },
      "source": [
        "### 4. Defina el modelo del sistema y los objetivos de la simulación\n",
        "\n",
        "El modelo del sistema es el cálculo de la integral de una función de una variable utilizando el Método Montecarlo. El objetivo de la simulación es estimar el valor de la integral."
      ]
    },
    {
      "cell_type": "markdown",
      "id": "7f853065",
      "metadata": {
        "id": "7f853065"
      },
      "source": [
        "### 5. Diseñe el experimento\n",
        "\n",
        "El experimento consistirá en generar puntos aleatorios dentro del intervalo de integración y usarlos para estimar el valor de la integral.\n"
      ]
    },
    {
      "cell_type": "markdown",
      "id": "15ae61c8",
      "metadata": {
        "id": "15ae61c8"
      },
      "source": [
        "### 6. Repita el experimento $n$ veces\n",
        "\n",
        "Replicaremos el experimento varias veces para obtener una estimación más precisa del valor de la integral.\n",
        "\n",
        "\n",
        "\n"
      ]
    },
    {
      "cell_type": "markdown",
      "id": "51ce3fa1",
      "metadata": {
        "id": "51ce3fa1"
      },
      "source": [
        "## Ejemplo\n",
        "\n"
      ]
    },
    {
      "cell_type": "markdown",
      "id": "edb6b074",
      "metadata": {
        "id": "edb6b074"
      },
      "source": [
        "**PASO 7** : Observaremos la estabilización del resultado a medida que aumentamos el número de repeticiones.\n",
        "\n"
      ]
    },
    {
      "cell_type": "markdown",
      "id": "f596fcd1",
      "metadata": {
        "id": "f596fcd1"
      },
      "source": [
        "**PASO 8**. Repetiremos el experimento un número deseado de veces para obtener varias estimaciones de la integral."
      ]
    },
    {
      "cell_type": "markdown",
      "id": "6e9bd469",
      "metadata": {
        "id": "6e9bd469"
      },
      "source": [
        "**PASO 9**. Calcular la probabilidad de que un punto caiga dentro del círculo y su desviación estándar.\n",
        "Esto nos dará una idea de la precisión de nuestra aproximación."
      ]
    },
    {
      "cell_type": "markdown",
      "source": [
        "**PASO 10**. Podemos calcular el intervalo de confianza para la integral utilizando la media y la desviación estándar de las estimaciones obtenidas en el paso 8."
      ],
      "metadata": {
        "id": "Cy9POYCeKXOC"
      },
      "id": "Cy9POYCeKXOC"
    },
    {
      "cell_type": "code",
      "source": [
        "import numpy as np\n",
        "\n",
        "# Paso 3: Modelado de las variables aleatorias\n",
        "def generate_random_points(a, b, n):\n",
        "    \"\"\"\n",
        "    Genera n puntos aleatorios uniformemente distribuidos dentro del intervalo [a, b].\n",
        "\n",
        "    Parámetros:\n",
        "        - a: Límite inferior del intervalo.\n",
        "        - b: Límite superior del intervalo.\n",
        "        - n: Número de puntos aleatorios a generar.\n",
        "\n",
        "    Devuelve:\n",
        "        - Un arreglo numpy de tamaño n con los puntos aleatorios generados.\n",
        "    \"\"\"\n",
        "    return np.random.uniform(a, b, n)\n",
        "\n",
        "# Paso 4: Definición del modelo del sistema y los objetivos de la simulación\n",
        "def monte_carlo_integration(func, points):\n",
        "    \"\"\"\n",
        "    Calcula la integral de una función usando el método Montecarlo de Acierto y Error.\n",
        "\n",
        "    Parámetros:\n",
        "        - func: La función a integrar.\n",
        "        - points: Un arreglo de puntos aleatorios dentro del intervalo de integración.\n",
        "\n",
        "    Devuelve:\n",
        "        - El valor estimado de la integral.\n",
        "    \"\"\"\n",
        "    # Calcula el valor medio de la función evaluada en los puntos aleatorios\n",
        "    integral_estimate = np.mean(func(points))\n",
        "    return integral_estimate\n",
        "\n",
        "# Paso 5: Diseño del experimento\n",
        "def experiment(func, a, b, n_points, n_trials):\n",
        "    \"\"\"\n",
        "    Realiza el experimento Montecarlo para calcular la integral de una función.\n",
        "\n",
        "    Parámetros:\n",
        "        - func: La función a integrar.\n",
        "        - a: Límite inferior de integración.\n",
        "        - b: Límite superior de integración.\n",
        "        - n_points: Número de puntos aleatorios a generar en cada iteración del experimento.\n",
        "        - n_trials: Número de veces que se repetirá el experimento.\n",
        "\n",
        "    Devuelve:\n",
        "        - Un arreglo con las estimaciones de la integral obtenidas en cada repetición del experimento.\n",
        "    \"\"\"\n",
        "    integral_estimates = []\n",
        "    for _ in range(n_trials):\n",
        "        points = generate_random_points(a, b, n_points)\n",
        "        integral_estimate = monte_carlo_integration(func, points)\n",
        "        integral_estimates.append(integral_estimate)\n",
        "    return np.array(integral_estimates)\n",
        "\n",
        "# Función a integrar\n",
        "def f(x):\n",
        "    return x**2\n",
        "\n",
        "# Límites de integración\n",
        "a = 0\n",
        "b = 1\n",
        "\n",
        "# Número de puntos aleatorios en cada iteración del experimento\n",
        "n_points = 10000\n",
        "\n",
        "# Número de repeticiones del experimento\n",
        "n_trials = 50\n",
        "\n",
        "# Paso 8: Réplica del modelo\n",
        "integral_estimates = experiment(f, a, b, n_points, n_trials)\n",
        "\n",
        "# Paso 9: Cálculo del valor estimado de la integral y su desviación estándar\n",
        "integral_mean = np.mean(integral_estimates)\n",
        "integral_std = np.std(integral_estimates)\n",
        "\n",
        "print(\"Valor estimado de la integral:\", integral_mean)\n",
        "print(\"Desviación estándar de las estimaciones:\", integral_std)\n",
        "\n",
        "# Paso 10: Intervalo de confianza\n",
        "confidence_interval = (integral_mean - 1.96 * integral_std / np.sqrt(n_trials),\n",
        "                       integral_mean + 1.96 * integral_std / np.sqrt(n_trials))\n",
        "print(\"Intervalo de confianza del 95%:\", confidence_interval)\n"
      ],
      "metadata": {
        "id": "zdpjGkmZVAz_",
        "outputId": "6be80907-9b8f-4a5d-88dd-9634ecd0e42d",
        "colab": {
          "base_uri": "https://localhost:8080/"
        }
      },
      "id": "zdpjGkmZVAz_",
      "execution_count": 1,
      "outputs": [
        {
          "output_type": "stream",
          "name": "stdout",
          "text": [
            "Valor estimado de la integral: 0.3327216470646706\n",
            "Desviación estándar de las estimaciones: 0.002586075047312587\n",
            "Intervalo de confianza del 95%: (0.3320048236332467, 0.33343847049609454)\n"
          ]
        }
      ]
    },
    {
      "cell_type": "markdown",
      "source": [
        "# Observacion\n",
        "Este código implementa los pasos de la metodología de simulación y calcula la integral de la función\n",
        "f(x)=x^2\n",
        "  en el intervalo [0, 1] utilizando el Método Montecarlo de Acierto y Error.\n",
        "  \n",
        "Se Puede ajustar la función f(x) y los límites de integración."
      ],
      "metadata": {
        "id": "QHbCjqlxVQ9u"
      },
      "id": "QHbCjqlxVQ9u"
    }
  ],
  "metadata": {
    "kernelspec": {
      "display_name": "Python 3 (ipykernel)",
      "language": "python",
      "name": "python3"
    },
    "language_info": {
      "codemirror_mode": {
        "name": "ipython",
        "version": 3
      },
      "file_extension": ".py",
      "mimetype": "text/x-python",
      "name": "python",
      "nbconvert_exporter": "python",
      "pygments_lexer": "ipython3",
      "version": "3.7.3"
    },
    "colab": {
      "provenance": [],
      "include_colab_link": true
    }
  },
  "nbformat": 4,
  "nbformat_minor": 5
}