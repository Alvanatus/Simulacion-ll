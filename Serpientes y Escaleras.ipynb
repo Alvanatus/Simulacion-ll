{
  "nbformat": 4,
  "nbformat_minor": 0,
  "metadata": {
    "colab": {
      "provenance": [],
      "authorship_tag": "ABX9TyMBPyR2HOXtYMagn76CXtVz",
      "include_colab_link": true
    },
    "kernelspec": {
      "name": "python3",
      "display_name": "Python 3"
    },
    "language_info": {
      "name": "python"
    }
  },
  "cells": [
    {
      "cell_type": "markdown",
      "metadata": {
        "id": "view-in-github",
        "colab_type": "text"
      },
      "source": [
        "<a href=\"https://colab.research.google.com/github/Alvanatus/Simulacion-ll/blob/main/Serpientes%20y%20Escaleras.ipynb\" target=\"_parent\"><img src=\"https://colab.research.google.com/assets/colab-badge.svg\" alt=\"Open In Colab\"/></a>"
      ]
    },
    {
      "cell_type": "markdown",
      "source": [
        "#Para estimar el valor esperado de N, primero necesitamos entender las probabilidades asociadas con el juego.\n",
        "\n",
        "Supongamos que en cada turno se lanza un dado de 6 caras, y sea 𝑝 la probabilidad de avanzar a la siguiente casilla. Dado que el dado tiene 6 caras y el juego tiene 20 casillas en total, la probabilidad de avanzar a la siguiente casilla es 𝑝 = 1/6. Sin embargo, hay algunas casillas especiales que afectan el movimiento:\n",
        "\n",
        "Si el jugador cae en una casilla con una escalera, se mueve a la casilla superior de la escalera.\n",
        "Si el jugador cae en una casilla con una serpiente, se mueve a la casilla inferior de la serpiente.\n",
        "\n",
        "Para estimar el valor esperado de N, podemos usar un enfoque analítico y otro basado en simulación.\n",
        "\n",
        " **Enfoque analítico:**\n",
        "Para calcular el valor esperado de N analíticamente, podemos usar conceptos de probabilidad. Sea E𝑖 la esperanza condicional del número de lanzamientos restantes si estamos en la casilla i. El valor esperado total E será la suma de estas esperanzas condicionales ponderadas por las probabilidades de llegar a cada casilla:\n",
        "\n",
        "E = Σ𝑖=1→20 P(i) ⋅ E𝑖\n",
        "\n",
        "Para calcular E𝑖, podemos usar programación dinámica o un enfoque recursivo. Comenzamos con E20 = 0 (porque estamos en la casilla final) y luego retrocedemos hasta E1, utilizando las probabilidades de movimiento y las casillas especiales.\n",
        "\n",
        "**Enfoque por simulación:**\n",
        "Para estimar el valor esperado de N por simulación, simplemente simulamos múltiples juegos y promediamos el número de lanzamientos requeridos para llegar a la casilla final.\n",
        "\n"
      ],
      "metadata": {
        "id": "KqsaLP_nUcXl"
      }
    },
    {
      "cell_type": "markdown",
      "source": [
        "# Enfoque por simulación.\n",
        "\n",
        "1. Especificar las reglas del juego, incluyendo el tablero, las serpientes y escaleras, y cómo se mueve el jugador.\n",
        "\n",
        "2. Escribir un programa que simule múltiples juegos. En cada juego, el programa lanzará un dado en cada turno y moverá al jugador según el resultado del dado y las reglas del juego.\n",
        "\n",
        "3. Contar el número de lanzamientos requeridos para que el jugador alcance la casilla final en cada juego.\n",
        "\n",
        "4. Calcular el promedio del número de lanzamientos requeridos para llegar a la casilla final sobre todas las simulaciones.\n",
        "\n",
        "\n"
      ],
      "metadata": {
        "id": "-CXaT6I4U-pd"
      }
    },
    {
      "cell_type": "code",
      "execution_count": 1,
      "metadata": {
        "id": "noXXevUW3Sj5",
        "colab": {
          "base_uri": "https://localhost:8080/"
        },
        "outputId": "229fb635-f6d9-41c9-97a9-29fa51949bf2"
      },
      "outputs": [
        {
          "output_type": "stream",
          "name": "stdout",
          "text": [
            "El valor esperado de N, basado en 10000 simulaciones, es aproximadamente 4.47 lanzamientos.\n"
          ]
        }
      ],
      "source": [
        "import random\n",
        "\n",
        "def jugar_juego():\n",
        "    # Definir el tablero con las serpientes y escaleras\n",
        "    tablero = {\n",
        "        3: 11, 15: 19,  # Escaleras\n",
        "        4: 13, 10: 17   # Serpientes\n",
        "    }\n",
        "\n",
        "    # Posición inicial del jugador\n",
        "    posicion = 1\n",
        "    lanzamientos = 0\n",
        "\n",
        "    # Mientras no lleguemos a la casilla final\n",
        "    while posicion < 20:\n",
        "        # Lanzar el dado\n",
        "        dado = random.randint(1, 6)\n",
        "        lanzamientos += 1\n",
        "\n",
        "        # Mover al jugador\n",
        "        posicion += dado\n",
        "\n",
        "        # Verificar si la posición tiene una serpiente o escalera\n",
        "        if posicion in tablero:\n",
        "            posicion = tablero[posicion]\n",
        "\n",
        "        # Asegurarse de no pasarse de la casilla final\n",
        "        posicion = min(posicion, 20)\n",
        "\n",
        "    return lanzamientos\n",
        "\n",
        "def simulacion(num_simulaciones):\n",
        "    total_lanzamientos = 0\n",
        "\n",
        "    # Realizar las simulaciones\n",
        "    for _ in range(num_simulaciones):\n",
        "        lanzamientos = jugar_juego()\n",
        "        total_lanzamientos += lanzamientos\n",
        "\n",
        "    # Calcular el promedio\n",
        "    promedio = total_lanzamientos / num_simulaciones\n",
        "    return promedio\n",
        "\n",
        "# Número de simulaciones\n",
        "num_simulaciones = 10000\n",
        "\n",
        "# Realizar la simulación y mostrar el resultado\n",
        "resultado = simulacion(num_simulaciones)\n",
        "print(f\"El valor esperado de N, basado en {num_simulaciones} simulaciones, es aproximadamente {resultado:.2f} lanzamientos.\")\n"
      ]
    },
    {
      "cell_type": "markdown",
      "source": [
        "#Programa calculo de matriz de transicion"
      ],
      "metadata": {
        "id": "1g6TCtl2VJUW"
      }
    },
    {
      "cell_type": "code",
      "source": [
        "import numpy as np\n",
        "\n",
        "# Definir las casillas especiales (escaleras y serpientes)\n",
        "escaleras = {(3, 11), (15, 19)}\n",
        "serpientes = {(4, 13), (10, 17)}\n",
        "\n",
        "# Crear la matriz de transición\n",
        "def crear_matriz_transicion():\n",
        "  \"\"\"\n",
        "  Crea la matriz de transición del juego.\n",
        "\n",
        "  Argumentos:\n",
        "    escaleras: Diccionario que representa las escaleras (casilla inicial, casilla final).\n",
        "    serpientes: Diccionario que representa las serpientes (casilla inicial, casilla final).\n",
        "\n",
        "  Retorno:\n",
        "    Matriz de transición NumPy.\n",
        "  \"\"\"\n",
        "\n",
        "  matriz_transicion = np.zeros((20, 20), dtype=float)\n",
        "\n",
        "  # Probabilidades para casillas sin casillas especiales\n",
        "  for i in range(1, 20):\n",
        "    for j in range(1, 7):\n",
        "      nueva_casilla = i + j\n",
        "      if nueva_casilla <= 20:\n",
        "        matriz_transicion[i - 1, nueva_casilla - 1] += 1/6\n",
        "\n",
        "  # Probabilidades para casillas con escaleras\n",
        "  for (casilla_inicial, casilla_final) in escaleras:\n",
        "    matriz_transicion[casilla_inicial - 1, casilla_final - 1] = 1/6\n",
        "\n",
        "  # Probabilidades para casillas con serpientes\n",
        "  for (casilla_inicial, casilla_final) in serpientes:\n",
        "    matriz_transicion[casilla_inicial - 1, casilla_final - 1] = 1/6\n",
        "\n",
        "  # Ajustar probabilidades para casillas con escaleras y serpientes\n",
        "  for i in range(1, 20):\n",
        "    for j in range(1, 7):\n",
        "      nueva_casilla = i + j\n",
        "      if (i, nueva_casilla) in escaleras:\n",
        "        matriz_transicion[i - 1, i - 1] -= 1/6\n",
        "      elif (i, nueva_casilla) in serpientes:\n",
        "        matriz_transicion[i - 1, i - 1] -= 1/6\n",
        "\n",
        "  return matriz_transicion\n",
        "\n",
        "# Calcular las probabilidades de los estados\n",
        "def calcular_probabilidades_estados(matriz_transicion):\n",
        "  \"\"\"\n",
        "  Calcula las probabilidades de los estados utilizando el método de las Cadenas de Markov.\n",
        "\n",
        "  Argumentos:\n",
        "    matriz_transicion: Matriz de transición NumPy.\n",
        "\n",
        "  Retorno:\n",
        "    Vector de probabilidades de los estados (NumPy array).\n",
        "  \"\"\"\n",
        "\n",
        "  v_inicial = np.array([1, 0, 0, 0, 0, 0, 0, 0, 0, 0, 0, 0, 0, 0, 0, 0, 0, 0, 0, 0])\n",
        "  v_actual = v_inicial\n",
        "\n",
        "  while True:\n",
        "    v_siguiente = matriz_transicion @ v_actual\n",
        "    diferencia = np.linalg.norm(v_siguiente - v_actual)\n",
        "\n",
        "    if diferencia < 1e-6:\n",
        "      break\n",
        "\n",
        "    v_actual = v_siguiente\n",
        "\n",
        "  return v_siguiente\n",
        "\n",
        "# Ejecutar el programa\n",
        "matriz_transicion = crear_matriz_transicion()\n",
        "probabilidades_estados = calcular_probabilidades_estados(matriz_transicion)\n",
        "\n",
        "print(\"Matriz de transición:\")\n",
        "print(matriz_transicion)\n",
        "\n",
        "print(\"\\nProbabilidades de los estados:\")\n",
        "print(probabilidades_estados)\n"
      ],
      "metadata": {
        "colab": {
          "base_uri": "https://localhost:8080/"
        },
        "id": "E63AYZkMVQ_8",
        "outputId": "5fddf651-7e4c-4b2b-97fc-c9f020246c89"
      },
      "execution_count": 2,
      "outputs": [
        {
          "output_type": "stream",
          "name": "stdout",
          "text": [
            "Matriz de transición:\n",
            "[[ 0.          0.16666667  0.16666667  0.16666667  0.16666667  0.16666667\n",
            "   0.16666667  0.          0.          0.          0.          0.\n",
            "   0.          0.          0.          0.          0.          0.\n",
            "   0.          0.        ]\n",
            " [ 0.          0.          0.16666667  0.16666667  0.16666667  0.16666667\n",
            "   0.16666667  0.16666667  0.          0.          0.          0.\n",
            "   0.          0.          0.          0.          0.          0.\n",
            "   0.          0.        ]\n",
            " [ 0.          0.          0.          0.16666667  0.16666667  0.16666667\n",
            "   0.16666667  0.16666667  0.16666667  0.          0.16666667  0.\n",
            "   0.          0.          0.          0.          0.          0.\n",
            "   0.          0.        ]\n",
            " [ 0.          0.          0.          0.          0.16666667  0.16666667\n",
            "   0.16666667  0.16666667  0.16666667  0.16666667  0.          0.\n",
            "   0.16666667  0.          0.          0.          0.          0.\n",
            "   0.          0.        ]\n",
            " [ 0.          0.          0.          0.          0.          0.16666667\n",
            "   0.16666667  0.16666667  0.16666667  0.16666667  0.16666667  0.\n",
            "   0.          0.          0.          0.          0.          0.\n",
            "   0.          0.        ]\n",
            " [ 0.          0.          0.          0.          0.          0.\n",
            "   0.16666667  0.16666667  0.16666667  0.16666667  0.16666667  0.16666667\n",
            "   0.          0.          0.          0.          0.          0.\n",
            "   0.          0.        ]\n",
            " [ 0.          0.          0.          0.          0.          0.\n",
            "   0.          0.16666667  0.16666667  0.16666667  0.16666667  0.16666667\n",
            "   0.16666667  0.          0.          0.          0.          0.\n",
            "   0.          0.        ]\n",
            " [ 0.          0.          0.          0.          0.          0.\n",
            "   0.          0.          0.16666667  0.16666667  0.16666667  0.16666667\n",
            "   0.16666667  0.16666667  0.          0.          0.          0.\n",
            "   0.          0.        ]\n",
            " [ 0.          0.          0.          0.          0.          0.\n",
            "   0.          0.          0.          0.16666667  0.16666667  0.16666667\n",
            "   0.16666667  0.16666667  0.16666667  0.          0.          0.\n",
            "   0.          0.        ]\n",
            " [ 0.          0.          0.          0.          0.          0.\n",
            "   0.          0.          0.          0.          0.16666667  0.16666667\n",
            "   0.16666667  0.16666667  0.16666667  0.16666667  0.16666667  0.\n",
            "   0.          0.        ]\n",
            " [ 0.          0.          0.          0.          0.          0.\n",
            "   0.          0.          0.          0.          0.          0.16666667\n",
            "   0.16666667  0.16666667  0.16666667  0.16666667  0.16666667  0.\n",
            "   0.          0.        ]\n",
            " [ 0.          0.          0.          0.          0.          0.\n",
            "   0.          0.          0.          0.          0.          0.\n",
            "   0.16666667  0.16666667  0.16666667  0.16666667  0.16666667  0.16666667\n",
            "   0.          0.        ]\n",
            " [ 0.          0.          0.          0.          0.          0.\n",
            "   0.          0.          0.          0.          0.          0.\n",
            "   0.          0.16666667  0.16666667  0.16666667  0.16666667  0.16666667\n",
            "   0.16666667  0.        ]\n",
            " [ 0.          0.          0.          0.          0.          0.\n",
            "   0.          0.          0.          0.          0.          0.\n",
            "   0.          0.          0.16666667  0.16666667  0.16666667  0.16666667\n",
            "   0.16666667  0.16666667]\n",
            " [ 0.          0.          0.          0.          0.          0.\n",
            "   0.          0.          0.          0.          0.          0.\n",
            "   0.          0.         -0.16666667  0.16666667  0.16666667  0.16666667\n",
            "   0.16666667  0.16666667]\n",
            " [ 0.          0.          0.          0.          0.          0.\n",
            "   0.          0.          0.          0.          0.          0.\n",
            "   0.          0.          0.          0.          0.16666667  0.16666667\n",
            "   0.16666667  0.16666667]\n",
            " [ 0.          0.          0.          0.          0.          0.\n",
            "   0.          0.          0.          0.          0.          0.\n",
            "   0.          0.          0.          0.          0.          0.16666667\n",
            "   0.16666667  0.16666667]\n",
            " [ 0.          0.          0.          0.          0.          0.\n",
            "   0.          0.          0.          0.          0.          0.\n",
            "   0.          0.          0.          0.          0.          0.\n",
            "   0.16666667  0.16666667]\n",
            " [ 0.          0.          0.          0.          0.          0.\n",
            "   0.          0.          0.          0.          0.          0.\n",
            "   0.          0.          0.          0.          0.          0.\n",
            "   0.          0.16666667]\n",
            " [ 0.          0.          0.          0.          0.          0.\n",
            "   0.          0.          0.          0.          0.          0.\n",
            "   0.          0.          0.          0.          0.          0.\n",
            "   0.          0.        ]]\n",
            "\n",
            "Probabilidades de los estados:\n",
            "[0. 0. 0. 0. 0. 0. 0. 0. 0. 0. 0. 0. 0. 0. 0. 0. 0. 0. 0. 0.]\n"
          ]
        }
      ]
    },
    {
      "cell_type": "markdown",
      "source": [
        "#Programa simulador de juego y calculo de N"
      ],
      "metadata": {
        "id": "TDgDbM9CVXnP"
      }
    },
    {
      "cell_type": "code",
      "source": [
        "import random\n",
        "\n",
        "# Definición de las casillas\n",
        "casillas = {\n",
        "    3: 11, 15: 19,  # Escaleras\n",
        "    4: 13, 10: 17   # Serpientes\n",
        "}\n",
        "\n",
        "# Función para mover la ficha\n",
        "def mover_ficha(posicion, dado):\n",
        "    \"\"\"\n",
        "    Mueve la ficha por la casilla indicada por el dado.\n",
        "\n",
        "    Args:\n",
        "        posicion: Posición actual de la ficha.\n",
        "        dado: Resultado del lanzamiento del dado.\n",
        "\n",
        "    Returns:\n",
        "        Nueva posición de la ficha.\n",
        "    \"\"\"\n",
        "    nueva_posicion = posicion + dado\n",
        "    if nueva_posicion > 20:\n",
        "        nueva_posicion = 20  # Si excede el límite, retroceder a la casilla 20\n",
        "    if nueva_posicion in casillas:\n",
        "        nueva_posicion = casillas[nueva_posicion]\n",
        "    return nueva_posicion\n",
        "\n",
        "# Función para jugar\n",
        "def jugar():\n",
        "    \"\"\"\n",
        "    Simula una partida del juego Serpientes y Escaleras.\n",
        "    \"\"\"\n",
        "    posicion = 1\n",
        "    lanzamientos = 0\n",
        "    print(f\"Empiezas en la casilla 1.\")\n",
        "    while posicion < 20:\n",
        "        dado = random.randint(1, 6)\n",
        "        lanzamientos += 1\n",
        "        nueva_posicion = mover_ficha(posicion, dado)\n",
        "        print(f\"Después del lanzamiento {lanzamientos}, estás en la casilla {nueva_posicion}.\")\n",
        "        if nueva_posicion == 20:\n",
        "            print(f\"¡Llegaste a la casilla 20 en {lanzamientos} lanzamientos!\")\n",
        "            break\n",
        "        posicion = nueva_posicion\n",
        "\n",
        "# Inicio del juego\n",
        "jugar()\n"
      ],
      "metadata": {
        "colab": {
          "base_uri": "https://localhost:8080/"
        },
        "id": "5vhSKwu_VhDH",
        "outputId": "25bd9490-af3f-40dd-f6b5-774c9edef8eb"
      },
      "execution_count": 3,
      "outputs": [
        {
          "output_type": "stream",
          "name": "stdout",
          "text": [
            "Empiezas en la casilla 1.\n",
            "Después del lanzamiento 1, estás en la casilla 13.\n",
            "Después del lanzamiento 2, estás en la casilla 14.\n",
            "Después del lanzamiento 3, estás en la casilla 16.\n",
            "Después del lanzamiento 4, estás en la casilla 19.\n",
            "Después del lanzamiento 5, estás en la casilla 20.\n",
            "¡Llegaste a la casilla 20 en 5 lanzamientos!\n"
          ]
        }
      ]
    }
  ]
}